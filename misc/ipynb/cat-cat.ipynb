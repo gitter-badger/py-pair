{
 "cells": [
  {
   "cell_type": "code",
   "execution_count": 10,
   "metadata": {},
   "outputs": [],
   "source": [
    "from random import choice\n",
    "\n",
    "\n",
    "x_domain = ['a', 'b', 'c']\n",
    "y_domain = ['a', 'b']\n",
    "\n",
    "get_x = lambda: choice(x_domain)\n",
    "get_y = lambda: choice(y_domain)\n",
    "get_data = lambda: {f'x{i}':v for i, v in enumerate((get_x(), get_y(), get_x(), get_y()))}\n",
    "\n",
    "data = [get_data() for _ in range(10)]"
   ]
  },
  {
   "cell_type": "code",
   "execution_count": 19,
   "metadata": {},
   "outputs": [],
   "source": [
    "from itertools import combinations, chain\n",
    "\n",
    "def to_count(d):\n",
    "    def count(k1, k2):\n",
    "        tups = [(k1, d[k1]), (k2, d[k2])]\n",
    "        tups = sorted(tups, key=lambda t: t[0])\n",
    "        \n",
    "        return (tups[0][0], tups[1][0], tups[0][1], tups[1][1]), 1\n",
    "    \n",
    "    return [count(k1, k2) for k1, k2 in combinations(d.keys(), 2)]\n",
    "    \n",
    "t = map(lambda d: to_count(d), data)\n",
    "t = chain(*t)"
   ]
  },
  {
   "cell_type": "code",
   "execution_count": 20,
   "metadata": {},
   "outputs": [
    {
     "data": {
      "text/plain": [
       "[(('x0', 'x1', 'c', 'a'), 1),\n",
       " (('x0', 'x2', 'c', 'c'), 1),\n",
       " (('x0', 'x3', 'c', 'a'), 1),\n",
       " (('x1', 'x2', 'a', 'c'), 1),\n",
       " (('x1', 'x3', 'a', 'a'), 1),\n",
       " (('x2', 'x3', 'c', 'a'), 1),\n",
       " (('x0', 'x1', 'a', 'a'), 1),\n",
       " (('x0', 'x2', 'a', 'b'), 1),\n",
       " (('x0', 'x3', 'a', 'b'), 1),\n",
       " (('x1', 'x2', 'a', 'b'), 1),\n",
       " (('x1', 'x3', 'a', 'b'), 1),\n",
       " (('x2', 'x3', 'b', 'b'), 1),\n",
       " (('x0', 'x1', 'b', 'a'), 1),\n",
       " (('x0', 'x2', 'b', 'a'), 1),\n",
       " (('x0', 'x3', 'b', 'b'), 1),\n",
       " (('x1', 'x2', 'a', 'a'), 1),\n",
       " (('x1', 'x3', 'a', 'b'), 1),\n",
       " (('x2', 'x3', 'a', 'b'), 1),\n",
       " (('x0', 'x1', 'a', 'b'), 1),\n",
       " (('x0', 'x2', 'a', 'a'), 1),\n",
       " (('x0', 'x3', 'a', 'a'), 1),\n",
       " (('x1', 'x2', 'b', 'a'), 1),\n",
       " (('x1', 'x3', 'b', 'a'), 1),\n",
       " (('x2', 'x3', 'a', 'a'), 1),\n",
       " (('x0', 'x1', 'b', 'a'), 1),\n",
       " (('x0', 'x2', 'b', 'a'), 1),\n",
       " (('x0', 'x3', 'b', 'a'), 1),\n",
       " (('x1', 'x2', 'a', 'a'), 1),\n",
       " (('x1', 'x3', 'a', 'a'), 1),\n",
       " (('x2', 'x3', 'a', 'a'), 1),\n",
       " (('x0', 'x1', 'b', 'a'), 1),\n",
       " (('x0', 'x2', 'b', 'b'), 1),\n",
       " (('x0', 'x3', 'b', 'b'), 1),\n",
       " (('x1', 'x2', 'a', 'b'), 1),\n",
       " (('x1', 'x3', 'a', 'b'), 1),\n",
       " (('x2', 'x3', 'b', 'b'), 1),\n",
       " (('x0', 'x1', 'c', 'b'), 1),\n",
       " (('x0', 'x2', 'c', 'a'), 1),\n",
       " (('x0', 'x3', 'c', 'a'), 1),\n",
       " (('x1', 'x2', 'b', 'a'), 1),\n",
       " (('x1', 'x3', 'b', 'a'), 1),\n",
       " (('x2', 'x3', 'a', 'a'), 1),\n",
       " (('x0', 'x1', 'b', 'b'), 1),\n",
       " (('x0', 'x2', 'b', 'b'), 1),\n",
       " (('x0', 'x3', 'b', 'a'), 1),\n",
       " (('x1', 'x2', 'b', 'b'), 1),\n",
       " (('x1', 'x3', 'b', 'a'), 1),\n",
       " (('x2', 'x3', 'b', 'a'), 1),\n",
       " (('x0', 'x1', 'a', 'a'), 1),\n",
       " (('x0', 'x2', 'a', 'a'), 1),\n",
       " (('x0', 'x3', 'a', 'b'), 1),\n",
       " (('x1', 'x2', 'a', 'a'), 1),\n",
       " (('x1', 'x3', 'a', 'b'), 1),\n",
       " (('x2', 'x3', 'a', 'b'), 1),\n",
       " (('x0', 'x1', 'b', 'a'), 1),\n",
       " (('x0', 'x2', 'b', 'b'), 1),\n",
       " (('x0', 'x3', 'b', 'a'), 1),\n",
       " (('x1', 'x2', 'a', 'b'), 1),\n",
       " (('x1', 'x3', 'a', 'a'), 1),\n",
       " (('x2', 'x3', 'b', 'a'), 1)]"
      ]
     },
     "execution_count": 20,
     "metadata": {},
     "output_type": "execute_result"
    }
   ],
   "source": [
    "list(t)"
   ]
  },
  {
   "cell_type": "code",
   "execution_count": null,
   "metadata": {},
   "outputs": [],
   "source": []
  }
 ],
 "metadata": {
  "kernelspec": {
   "display_name": "Python 3",
   "language": "python",
   "name": "python3"
  },
  "language_info": {
   "codemirror_mode": {
    "name": "ipython",
    "version": 3
   },
   "file_extension": ".py",
   "mimetype": "text/x-python",
   "name": "python",
   "nbconvert_exporter": "python",
   "pygments_lexer": "ipython3",
   "version": "3.7.3"
  }
 },
 "nbformat": 4,
 "nbformat_minor": 2
}
