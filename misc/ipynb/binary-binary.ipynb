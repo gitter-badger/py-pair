{
 "cells": [
  {
   "cell_type": "code",
   "execution_count": 10,
   "metadata": {},
   "outputs": [],
   "source": [
    "import pandas as pd\n",
    "\n",
    "get_data = lambda x, y, n: [(x, y) * 2 for _ in range(n)]\n",
    "data = get_data(1, 1, 207) + get_data(1, 0, 282) + get_data(0, 1, 231) + get_data(0, 0, 242)\n",
    "pdf = pd.DataFrame(data, columns=['x1', 'x2', 'x3', 'x4'])\n",
    "sdf = sqlContext.createDataFrame(pdf)"
   ]
  },
  {
   "cell_type": "code",
   "execution_count": 13,
   "metadata": {},
   "outputs": [
    {
     "name": "stdout",
     "output_type": "stream",
     "text": [
      "root\n",
      " |-- x1: long (nullable = true)\n",
      " |-- x2: long (nullable = true)\n",
      " |-- x3: long (nullable = true)\n",
      " |-- x4: long (nullable = true)\n",
      "\n"
     ]
    }
   ],
   "source": [
    "sdf.printSchema()"
   ]
  },
  {
   "cell_type": "code",
   "execution_count": 29,
   "metadata": {},
   "outputs": [],
   "source": [
    "from itertools import combinations\n",
    "\n",
    "def to_counts(d):\n",
    "    def as_key(k1, k2):\n",
    "        keys = sorted([k1, k2])\n",
    "        return keys[0], keys[1]\n",
    "    \n",
    "    def as_count(v1, v2):\n",
    "        a, b, c, d = 0, 0, 0, 0\n",
    "        if v1 is not None and v2 is not None:\n",
    "            if v1 == 1 and v2 == 1:\n",
    "                a = 1\n",
    "            elif v1 == 1 and v2 == 0:\n",
    "                b = 1\n",
    "            elif v1 == 0 and v2 == 1:\n",
    "                c = 1\n",
    "            else:\n",
    "                d = 1\n",
    "        return a, b, c, d\n",
    "    \n",
    "    def transform(k1, k2):\n",
    "        v1, v2 = d[k1], d[k2]\n",
    "        return as_key(k1, k2), as_count(v1, v2)\n",
    "    \n",
    "    return [transform(k1, k2) for k1, k2 in combinations(d.keys(), 2)]\n",
    "\n",
    "def add_counts(a, b):\n",
    "    return a[0] + b[0], a[1] + b[1], a[2] + b[2], a[3] + b[3]\n",
    "\n",
    "# to_counts({'x1': 1, 'x2': 1, 'x3': 1, 'x4': 1})"
   ]
  },
  {
   "cell_type": "code",
   "execution_count": 31,
   "metadata": {},
   "outputs": [
    {
     "data": {
      "text/plain": [
       "[(('x1', 'x2'), (207, 282, 231, 242)),\n",
       " (('x1', 'x3'), (489, 0, 0, 473)),\n",
       " (('x1', 'x4'), (207, 282, 231, 242)),\n",
       " (('x2', 'x3'), (207, 231, 282, 242)),\n",
       " (('x2', 'x4'), (438, 0, 0, 524)),\n",
       " (('x3', 'x4'), (207, 282, 231, 242))]"
      ]
     },
     "execution_count": 31,
     "metadata": {},
     "output_type": "execute_result"
    }
   ],
   "source": [
    "sdf.rdd\\\n",
    "    .flatMap(lambda r: to_counts(r.asDict()))\\\n",
    "    .reduceByKey(lambda a, b: add_counts(a, b))\\\n",
    "    .sortByKey()\\\n",
    "    .collect()"
   ]
  },
  {
   "cell_type": "code",
   "execution_count": null,
   "metadata": {},
   "outputs": [],
   "source": []
  }
 ],
 "metadata": {
  "kernelspec": {
   "display_name": "Python 3",
   "language": "python",
   "name": "python3"
  },
  "language_info": {
   "codemirror_mode": {
    "name": "ipython",
    "version": 3
   },
   "file_extension": ".py",
   "mimetype": "text/x-python",
   "name": "python",
   "nbconvert_exporter": "python",
   "pygments_lexer": "ipython3",
   "version": "3.7.6"
  }
 },
 "nbformat": 4,
 "nbformat_minor": 4
}
